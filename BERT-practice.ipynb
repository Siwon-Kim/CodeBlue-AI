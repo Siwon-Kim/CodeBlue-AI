{
  "nbformat": 4,
  "nbformat_minor": 0,
  "metadata": {
    "colab": {
      "private_outputs": true,
      "provenance": [],
      "gpuType": "T4",
      "authorship_tag": "ABX9TyPFTKEQJu3pY4vAMvRtU/WQ",
      "include_colab_link": true
    },
    "kernelspec": {
      "name": "python3",
      "display_name": "Python 3"
    },
    "language_info": {
      "name": "python"
    },
    "accelerator": "GPU"
  },
  "cells": [
    {
      "cell_type": "markdown",
      "metadata": {
        "id": "view-in-github",
        "colab_type": "text"
      },
      "source": [
        "<a href=\"https://colab.research.google.com/github/Siwon-Kim/CodeBlue-AI/blob/develop/BERT-practice.ipynb\" target=\"_parent\"><img src=\"https://colab.research.google.com/assets/colab-badge.svg\" alt=\"Open In Colab\"/></a>"
      ]
    },
    {
      "cell_type": "code",
      "source": [
        "!pip install transformers"
      ],
      "metadata": {
        "id": "vDmaL6bUcK8H"
      },
      "execution_count": null,
      "outputs": []
    },
    {
      "cell_type": "code",
      "source": [
        "from transformers import AutoTokenizer, TFAutoModel\n",
        "\n",
        "tokenizer = AutoTokenizer.from_pretrained(\"bert-base-multilingual-cased\")\n",
        "model = TFAutoModel.from_pretrained(\"bert-base-multilingual-cased\")"
      ],
      "metadata": {
        "id": "rxvYk9DWbbkK"
      },
      "execution_count": null,
      "outputs": []
    },
    {
      "cell_type": "code",
      "source": [
        "print(tokenizer.vocab_size)"
      ],
      "metadata": {
        "id": "ODq0kqZWyr2m"
      },
      "execution_count": null,
      "outputs": []
    },
    {
      "cell_type": "code",
      "source": [
        "text1 = '월요일 체력단련 후 명치가 아프면서 밤새 동안 구토, 구역질'"
      ],
      "metadata": {
        "id": "dQPQul7ggNBb"
      },
      "execution_count": null,
      "outputs": []
    },
    {
      "cell_type": "code",
      "source": [
        "tokenized_text = tokenizer.tokenize(\n",
        "            text1, \n",
        "            add_special_tokens=True,\n",
        "            max_length=70,\n",
        "            padding='max_length',\n",
        "            truncation=True,\n",
        "            return_attention_mask=True,\n",
        "            return_tensors='tf'\n",
        "            )\n",
        "print(tokenized_text)\n",
        "input_ids = tokenizer.encode(\n",
        "    text1,\n",
        "    add_special_tokens=True,\n",
        "    max_length=70,\n",
        "    padding='max_length'\n",
        "    )\n",
        "print(input_ids)\n",
        "decoded_ids = tokenizer.decode(input_ids)\n",
        "print(decoded_ids)"
      ],
      "metadata": {
        "id": "cSnJS_XmcS8P"
      },
      "execution_count": null,
      "outputs": []
    },
    {
      "cell_type": "code",
      "source": [
        "text = \"밥을 먹다가 아랫입술이 경련이 난 것처럼 떨린다.\""
      ],
      "metadata": {
        "id": "m2Ie1dJ_dATB"
      },
      "execution_count": null,
      "outputs": []
    },
    {
      "cell_type": "code",
      "source": [
        "tokenized_input_text = tokenizer(text, return_tensors=\"tf\")\n",
        "\n",
        "for key, value in tokenized_input_text.items():\n",
        "    print(\"{}:\\n\\t{}\".format(key, value))"
      ],
      "metadata": {
        "id": "0UH2smQVeIbT"
      },
      "execution_count": null,
      "outputs": []
    },
    {
      "cell_type": "markdown",
      "source": [
        "새로운 토큰 추가하기"
      ],
      "metadata": {
        "id": "qyZYX2WHh2Ju"
      }
    },
    {
      "cell_type": "code",
      "source": [
        "added_token_num = tokenizer.add_tokens([\"구토\", \"구역질\", \"체력\", \"체력단련\", \"명치\", \"아프\", \"밤새\"])\n",
        "print(added_token_num)\n",
        "\n",
        "tokenized_text = tokenizer.tokenize(\n",
        "            text1, \n",
        "            add_special_tokens=True,\n",
        "            max_length=70,\n",
        "            padding='max_length',\n",
        "            truncation=True,\n",
        "            return_attention_mask=True,\n",
        "            return_tensors='tf'\n",
        "            )\n",
        "print(tokenized_text)\n",
        "input_ids = tokenizer.encode(\n",
        "    text1,\n",
        "    add_special_tokens=True,\n",
        "    max_length=70,\n",
        "    padding='max_length'\n",
        "    )\n",
        "print(input_ids)\n",
        "decoded_ids = tokenizer.decode(input_ids)\n",
        "print(decoded_ids)"
      ],
      "metadata": {
        "id": "TmtEg0Yheu5x"
      },
      "execution_count": null,
      "outputs": []
    },
    {
      "cell_type": "code",
      "source": [
        "multi_line = \"밥을 먹다가 아랫입술이 경련이 난 것처럼 떨린다. 10분 정도 한 후에 괜찮아짐. 월요일 체력단련 후 명치가 아프면서 밤새 동안 구토, 구역질. 교정하고 있는 상태.\""
      ],
      "metadata": {
        "id": "toC11Z0LjXhJ"
      },
      "execution_count": null,
      "outputs": []
    },
    {
      "cell_type": "code",
      "source": [
        "multi_seg_input = tokenizer.tokenize(multi_line)\n",
        "\n",
        "print(multi_seg_input)"
      ],
      "metadata": {
        "id": "f8364n_QjmbQ"
      },
      "execution_count": null,
      "outputs": []
    },
    {
      "cell_type": "code",
      "source": [
        "# 증상 데이터와 응급 정도 레이블\n",
        "data = [\n",
        "    [\"10분 정도 한 후에 괜찮아짐.\", \"2\"],\n",
        "    [\"밥을 먹다가 아랫입술이 경련이 난 것처럼 떨린다.\", \"4\"],\n",
        "    [\"월요일 체력단련 후 명치가 아프면서 밤새 동안 구토, 구역질\", \"3\"],\n",
        "    [\"교정하고 있는 상태.\", \"1\"],\n",
        "    [\"운동을 하다가 심장이 갑자기 아프다.\", \"3\"],\n",
        "    [\"증상은 1주일 정도 계속\", \"3\"],\n",
        "    [\"가끔씩 어지럽거나 빈혈도 있음\", \"2\"],\n",
        "    [\"혈압약을 먹고 있음\", \"1\"],\n",
        "    [\"아스팔트에서 넘어져 살이 까지는 찰과상\", \"2\"],\n",
        "    [\"다음날 상처 부위에 진물이 흐름\", \"1\"],\n",
        "    [\"지금은 상처 주변이 빨갛게 변함\", \"2\"],\n",
        "    [\"상처에서 열감이 느껴짐\", \"2\"],\n",
        "    [\"담석증으로 인해 복강경 수술 후 3일 뒤 퇴원\", \"3\"],\n",
        "    [\"역류성 식도염 증상과 구역감이 지속\", \"3\"],\n",
        "    [\"식사 후 구역감이 계속 생김\", \"3\"],\n",
        "    [\"역류성 식도염처럼 목에 이물감이 계속 남아있음\", \"2\"],\n",
        "    [\"4일 전 부터 잇몸이 너무 아프고 시림\", \"2\"],\n",
        "    [\"출혈이 반복되며 소염 진통제를 먹어도 효과가 없음\", \"4\"],\n",
        "    [\"잇몸이 헐고 열이 계속 남\", \"2\"],\n",
        "    [\"바람이 불면 상처부위랑 얼굴이 아프고 식사를 제대로 못함\", \"3\"],\n",
        "    [\"자고 일어났을 때 목과 어깨가 뻐근하고 찌릿한 느낌을 받음\", \"1\"],\n",
        "    [\"오른쪽 귀 밑부터 쇄골 윗 부분 근육까지 아픔\", \"2\"],\n",
        "    [\"교통사고 난 느낌일 정도로 아픔\", \"3\"],\n",
        "    [\"얼굴 광대 아랫부분부터 입 주변 부분이 저림\", \"2\"],\n",
        "    [\"통증은 없으며, 지릿지릿한 느낌이고 증상이 한번 발생하면 보통 3~5시간 지속\", \"2\"],\n",
        "    [\"정신과에 불안장애 진단을 받고 현재 약을 복용중\", \"3\"],\n",
        "    [\"최근 들어 과호흡이 심해짐\", \"3\"],\n",
        "    [\"호흡곤란 느낌이 이어지며 심장이 답답하고, 약을 복용 후에도 지속\", \"3\"],\n",
        "    [\"일상생활이 힘든 정도\", \"3\"],\n",
        "    [\"회사 근무 간 불안과 긴장, 한숨이 반복\", \"1\"],\n",
        "    [\"본인의 직책에 대한 과도한 불안감\", \"2\"],\n",
        "    [\"본인의 적응 능력에 대한 자책과 울적함을 느끼며, 과한 음주\", \"2\"],\n",
        "    [\"긴장 완화를 위해 본인에게 맞지 않는 커피를 지속 섭취\", \"1\"],\n",
        "    [\"피를 뽑은 후 바늘 구멍 주변이 모기물린 것 처럼 부어오름\", \"1\"],\n",
        "    [\"간지럽고 1~2달간 상처가 아물지 않음\", \"2\"],\n",
        "    [\"이전에 극 민감성 아토피를 앓았던 적이 있음\", \"2\"],\n",
        "    [\"6개월이 지난 지금은 주사부위만 트고 가끔 가려움\", \"1\"],\n",
        "    [\"목을 오른쪽으로 꺾으면 가슴 명치 쪽이 쑤심\", \"2\"],\n",
        "    [\"수면 중 기침 때문에 자다가 숨 넘어갈 것 같음\", \"2\"],\n",
        "    [\"명치 왼쪽 부분이 쑤시는 느낌이 듬\", \"2\"],\n",
        "    [\"정수리 오른쪽 뾰루지 부분에 바늘로 찌르는 듯한 심한 통증을 느낌\", \"2\"],\n",
        "    [\"앞으로 휘청거려서 쓰러질 정도로 중심을 못잡음\", \"3\"],\n",
        "    [\"심장이 따끔 거리고 호흡이 힘듬\", \"3\"],\n",
        "    [\"의식이 없으며, 자가 호흡을 하지 못함\", \"5\"],\n",
        "    [\"팔에 심한 출혈이 있으며, 맥박이 떨어짐\", \"5\"],\n",
        "    [\"의식이 없으며 심박이 불안함\", \"5\"],\n",
        "    [\"환자는 경기를 일으키고 있음\", \"4\"],\n",
        "    [\"공황장애 병력을 갖고 있음\", \"3\"],\n",
        "    [\"체온이 낮고 나른함\", \"1\"],\n",
        "    [\"종아리가 심하게 부어있음\", \"2\"],\n",
        "    [\"숨을 쉴 때 갑자기 흉부에 통증을 느낌\", \"2\"],\n",
        "    [\"마른 기침이 나오며 숨을 쉬기 힘들어 합니다.\", \"3\"],\n",
        "    [\"평소에 사과 알레르기가 있으며, 눈과 입술이 부어오름\", \"2\"],\n",
        "    [\"원인 미상의 알레르기 반응으로 목 부분이 심하게 부었음\", \"3\"],\n",
        "    [\"동공이 확장되었으며 식은 땀을 흘림\", \"3\"],\n",
        "    [\"목이 심하게 부어 숨을 쉬는데 고통을 호소하고 있음\", \"3\"],\n",
        "    [\"맥박이 떨어지고 있으며 의식이 없음\", \"5\"],\n",
        "    [\"심한 두통과 고열 증세를 보임\", \"2\"],\n",
        "    [\"몸이 건조하며 탈수 증상이 있음\", \"2\"],\n",
        "    [\"정신착란 증세가 있으며 사물을 인지 못함\", \"4\"],\n",
        "    [\"강한 뇌진탕으로 인하여 의식이 없음\", \"5\"],\n",
        "    [\"엉덩이부근에 심한 찰과상이 있음\", \"2\"],\n",
        "    [\"소실된 의식과 기억 상실, 혼란상태를 보여요.\", \"4\"],\n",
        "    [\"환자가 오늘 아침에 발열이 높았다. 또한 환자가 혈압이 높았다.\", \"2\"],\n",
        "    [\"두통으로 인해 치매 증상 발생\", \"3\"],\n",
        "    [\"두통때문에 혼절함\", \"4\"],\n",
        "    [\"두통, 치통이 있으며 오른쪽 팔목에 통증을 호소한다.\", \"2\"],\n",
        "    [\"기억 상실상태이며, 가끔 가슴통증도 동반한다\", \"2\"],\n",
        "    [\"기운이 없으며 손발이 계속 저리고, 청각이 손실 된듯 하다\", \"3\"],\n",
        "    [\"피를 계속 토하고, 각혈이 지속되다보니 혈압이 높아져서 쓰러짐\", \"5\"],\n",
        "    [\"심부전의 징후인 가슴 통증, 사지 부종, 코막힘이 있어요.\", \"4\"],\n",
        "    [\"발작으로 인한 청각 손실, 시야 손실 발생했습니다.\", \"4\"],\n",
        "    [\"호흡곤란과 호흡음, 흉부 압박감을 겪고 있습니다.\", \"4\"],\n",
        "    [\"고열과 목의 부종 사지 마비로 도움이 필요해 보입니다.\", \"5\"],\n",
        "    [\"팔과 다리 부분에 1도 화상을 입었습니다.\", \"2\"],\n",
        "    [\"전신에 힘이 없으며 몸을 제대로 가누지를 못함\", \"2\"],\n",
        "    [\"혈압이 높고 경련 증세가 있음\", \"3\"],\n",
        "    [\"사물을 인지하지 못하고 상황판단이 불가능함\", \"3\"],\n",
        "    [\"엉덩이에서 작은 출혈이 있음\", \"1\"],\n",
        "    [\"등에 멍자국이 있음\", \"1\"],\n",
        "    [\"얼굴에 붉은 반점이 있음\", \"1\"],\n",
        "    [\"안면부에 심한 찰과상이 있으며 출혈이 심합니다\", \"3\"],\n",
        "    [\"기침에 피를 동반함\", \"3\"],\n",
        "    [\"어깨 부근의 탈골이 의심됨.\", \"1\"],\n",
        "    [\"빈혈끼가 있으며 시야가 보이지 않음\", \"3\"],\n",
        "    [\"앞가슴을 심하게 누르는 듯한 느낌을 받음\", \"3\"],\n",
        "    [\"환자의 전신에 자해 자국이 있음\", \"3\"],\n",
        "    [\"다소 심한 뇌진탕으로 인해 의식이 희미함\", \"4\"],\n",
        "    [\"목 부근에 자해의 흔적이 있다\", \"4\"],\n",
        "    [\"코피 음식 섭취 곤란, 가려운 발진이 관찰되어요.\", \"2\"],\n",
        "    [\"피토 하고, 각혈이 점점 심해져서 즉각적인 응급 처치가 필요함\", \"5\"],\n",
        "    [\"오전에 발작을 일으켰으며 기운이 없어보이고, 호흡곤란이 있엇다\", \"4\"],\n",
        "    [\"빈혈과 혈액 흘림, 황달 증상을 확인했습니다.\", \"3\"],\n",
        "    [\"경련, 목의 부종, 의식 변화로 급한 조치가 필요해보입니다.\", \"5\"],\n",
        "    [\"환자는 객혈과 피토를 겪고 있습니다.\", \"5\"],\n",
        "    [\"기침을 자주하며 목이 심하게 부어오름\", \"1\"],\n",
        "    [\"무릎에 심한 출혈이 있습니다\", \"3\"],\n",
        "    [\"전신에 격통을 느끼고 있음\", \"4\"],\n",
        "    [\"심한 발열과 함께 방금 있었던 일을 기억하지 못하는 등의 증세를 보임\", \"4\"],\n",
        "    [\"자가 호흡이 불가능하며 빠른 이송이 필요\", \"5\"],\n",
        "]"
      ],
      "metadata": {
        "id": "dIEsTPZwucLS"
      },
      "execution_count": null,
      "outputs": []
    },
    {
      "cell_type": "code",
      "source": [
        "!pip install tensorflow sklearn data"
      ],
      "metadata": {
        "id": "wSIwlOL8uus8"
      },
      "execution_count": null,
      "outputs": []
    },
    {
      "cell_type": "code",
      "source": [
        "import tensorflow as tf\n",
        "from sklearn.model_selection import train_test_split"
      ],
      "metadata": {
        "id": "LswtYdJ5u7Mi"
      },
      "execution_count": null,
      "outputs": []
    },
    {
      "cell_type": "code",
      "source": [
        "symptoms = [i[0] for i in data]\n",
        "labels = [i[1] for i in data]\n",
        "\n",
        "X_train, X_test, Y_train, Y_test = train_test_split(symptoms, labels, test_size=0.2, random_state=42, stratify=labels)\n",
        "\n",
        "def convert_examples_to_features(texts, labels, tokenizer):\n",
        "    input_ids = []\n",
        "    attention_masks = []\n",
        "    for text in texts:\n",
        "        encoded = tokenizer.encode_plus(\n",
        "            text,\n",
        "            add_special_tokens=True,\n",
        "            max_length=128,\n",
        "            padding='max_length',\n",
        "            truncation=True,\n",
        "            return_attention_mask=True,\n",
        "            return_tensors='tf'\n",
        "        )\n",
        "        input_ids.append(encoded['input_ids'][0]) \n",
        "        attention_masks.append(encoded['attention_mask'][0])\n",
        "\n",
        "        print(\"텍스트:\", text)\n",
        "        print(\"인코딩된 토큰:\", tokenizer.convert_ids_to_tokens(encoded['input_ids'][0]))  \n",
        "\n",
        "    return tf.constant(input_ids), tf.constant(attention_masks), tf.constant(labels)  "
      ],
      "metadata": {
        "id": "t9N-HAkUueyz"
      },
      "execution_count": null,
      "outputs": []
    },
    {
      "cell_type": "code",
      "source": [
        "# 데이터를 BERT 입력 형식으로 변환\n",
        "train_input_ids, train_attention_masks, train_labels = convert_examples_to_features(X_train, Y_train, tokenizer)\n",
        "test_input_ids, test_attention_masks, test_labels = convert_examples_to_features(X_test, Y_test, tokenizer)"
      ],
      "metadata": {
        "id": "RhhMJqM3ukYY"
      },
      "execution_count": null,
      "outputs": []
    },
    {
      "cell_type": "code",
      "source": [],
      "metadata": {
        "id": "u9Xy0PpF5cbI"
      },
      "execution_count": null,
      "outputs": []
    }
  ]
}